{
  "cells": [
    {
      "cell_type": "markdown",
      "metadata": {
        "id": "Z9KpsPxOilGM"
      },
      "source": [
        "# Final Project: Overview\n",
        "\n",
        "# Objective\n",
        "\n",
        "The objective of this project is for you to demonstrate your mastery of the Machine Learning process\n",
        "**using Neural Networks**.\n",
        "\n"
      ]
    },
    {
      "cell_type": "markdown",
      "metadata": {
        "id": "CQULjq8silGN"
      },
      "source": [
        "# Submission requirements\n",
        "\n",
        "The guidelines will be similar to the Midterm\n",
        "- you will write a procedure that takes raw data and produces predictions\n",
        "\n",
        "You will submit a *single* model for evaluation.\n",
        "\n",
        "**Demonstrate that all cells in your notebook work**\n",
        "\n",
        "The final cell in your notebook should print the message \"Done\"\n",
        "- `print(\"Done\")`\n",
        "- If we run your notebook and this last cell does not execute your submission will be inadequate\n",
        "\n",
        "## Testing\n",
        "\n",
        "*You must perform out of sample testing*.\n",
        "\n",
        "If you want to perform cross-validation in training, that is fine, but you\n",
        "must *also* test out of sample to show that you are not over-fitting.\n",
        "\n",
        "It is up to you to create the out of sample data that you feel best evaluates your model.\n",
        "\n",
        "We will create holdout data (that we will not show you) for grading.\n",
        "\n",
        "The procedure you write to make predictions should be able to work on the unseen holdout data\n",
        "(similar to how it should work for your test set but the holdout set has *no targets*)\n",
        "\n",
        "    "
      ]
    },
    {
      "cell_type": "markdown",
      "metadata": {
        "id": "zzQfCLTbilGO"
      },
      "source": [
        "# The data\n",
        "\n",
        "Data will be provided to you\n",
        "- as multiple files in a directory which we refer to as a *data directory*\n",
        "\n",
        "The reason for this is that the different files may convey different information.\n",
        "\n",
        "You will be responsible for deciding\n",
        "- which files to use\n",
        "- which fields within the files to use\n",
        "\n",
        "We will give you a data directory for training.\n",
        "\n",
        "# Submission guidelines\n",
        "\n",
        "Here are the basics, a code template that you must complete is in the following cells\n",
        "- you will be required to store  your model in a file\n",
        "- you will be required to write a procedure `MyModel` that takes two arguments\n",
        "    - `test_dir`\n",
        "        - this is a *relative path* to the holdout data directory\n",
        "    - `model_save_file`\n",
        "        - this is a *relative path* to the file containing your model\n",
        "- the holdout data directory is similar in structure to the training data directory\n",
        "    - but without target labels !  It is your job to predict these.\n",
        "- your procedure must produce predictions given this holdout data directory\n",
        "\n",
        "This means that your procedure must\n",
        "- prepare the files in the holdout data directory similar to the way that they were prepared in the training data directory\n",
        "\n",
        "We will provide you with a sample data directory that will resemble the holdout -- this is so that you\n",
        "may test the procedure you write for submission.\n",
        "\n"
      ]
    },
    {
      "cell_type": "markdown",
      "metadata": {
        "id": "h2yiL67CilGP"
      },
      "source": [
        "## Detailed submission guidelines\n",
        "\n",
        "\n",
        "In **addition to your notebook that trains/evaluates your model**,\n",
        "- please also submit the file that contains your trained model.\n",
        "    - use `saveModel` to put your final, trained model in this file\n",
        "- We will **not** train your model; we will only use the method `MyModel`\n",
        "    - which **you** will implement\n",
        "    - and which uses `loadModel` and the name of the file in which the model was saved\n",
        "    - this will create the model that we will evaluate\n",
        "\n",
        "\n",
        "Here is a code template for you to complete\n",
        "- it will save your model (assuming it is in variable `my_model`)\n",
        "- it provides the specification for procedure `MyModel`, which *you must complete*\n"
      ]
    },
    {
      "cell_type": "code",
      "execution_count": null,
      "metadata": {
        "id": "GV_5dZGYilGP"
      },
      "outputs": [],
      "source": [
        "import os\n",
        "from tensorflow.keras.models import load_model\n",
        "\n",
        "modelName = \"final_model\"\n",
        "model_path = os.path.join(\".\", modelName)\n",
        "\n",
        "def saveModel(model, model_path):\n",
        "    \"\"\"\n",
        "    Save a model\n",
        "\n",
        "    Parameters\n",
        "    ----------\n",
        "    model: a Keras model object\n",
        "    model_path: String.  Relative path to a file in which the model will be stored\n",
        "\n",
        "\n",
        "    Returns\n",
        "    -------\n",
        "    model_save_file: String.  Name of the file in which the model has been saved\n",
        "        - this will be model_path with the proper file-extension added\n",
        "    \"\"\"\n",
        "\n",
        "    model_save_file = model_path + '.keras'\n",
        "\n",
        "    model.save(model_save_file)\n",
        "\n",
        "    print(f\"Model saved in {model_save_file:s}; submit with your assignment.\")\n",
        "\n",
        "    return model_save_file\n",
        "\n",
        "def loadModel(model_save_file):\n",
        "    model = tf.keras.models.load_model( model_save_file )\n",
        "\n",
        "    return model\n",
        "\n",
        "def MyModel(test_dir, model_save_file):\n",
        "    # YOU MAY NOT change model after this statement !\n",
        "    model = loadModel(model_save_file)\n",
        "\n",
        "    # It should run model to create an array of predictions; we initialize it to the empty array for convenience\n",
        "    predictions = []\n",
        "\n",
        "    # We need to match your array of predictions with the examples you are predicting\n",
        "    # The array below (ids) should have a one-to-one correspondence and identify the example your are predicting\n",
        "    # For Bankruptcy: the Id column\n",
        "    # For Stock prediction: the date on which you are making a prediction\n",
        "    ids = []\n",
        "\n",
        "    # YOUR CODE GOES HERE\n",
        "\n",
        "\n",
        "    return predictions, ids\n",
        "\n",
        "# Assign to variable my_model the model that is your final model (the one  you will be evaluated on)\n",
        "my_model = None # CHANGE None to your model !\n",
        "\n",
        "# model_save_file = saveModel(my_model, model_path)"
      ]
    },
    {
      "cell_type": "markdown",
      "source": [
        "# 0. Constants"
      ],
      "metadata": {
        "id": "e_d-Fe36jpPy"
      }
    },
    {
      "cell_type": "code",
      "source": [
        "from typing import Final\n",
        "\n",
        "DATASET_URL: Final = \"https://github.com/rogerli2020/Stock-Prediction-FRE7773-Final-Project/raw/refs/heads/main/Data.tar\"\n",
        "TRAIN_SET_RELATIVE_PATH: Final = \"./Data/train\"\n",
        "SAMPLE_SET_RELATIVE_PATH: Final = \"./Data/sample\""
      ],
      "metadata": {
        "id": "khohk3sujjTt"
      },
      "execution_count": null,
      "outputs": []
    },
    {
      "cell_type": "markdown",
      "source": [
        "# 1. Getting the Data"
      ],
      "metadata": {
        "id": "iUTlxuGJio2x"
      }
    },
    {
      "cell_type": "code",
      "source": [
        "import os\n",
        "import urllib.request\n",
        "import tarfile\n",
        "import pandas as pd\n",
        "\n",
        "class MyDataset:\n",
        "  def __init__(self) -> None:\n",
        "    self.train_dataset = None\n",
        "    self.sample_dataset = None\n",
        "\n",
        "    self._initialize_dataset()\n",
        "\n",
        "  def _initialize_dataset(self) -> None:\n",
        "    def load_dataset_from_dir(dir : str) -> dict:\n",
        "      data_dict = {}\n",
        "      if not os.path.isdir(dir):\n",
        "        raise ValueError(f\"The provided path '{dir}' is not a directory or does not exist.\")\n",
        "      for file_name in os.listdir(dir):\n",
        "        if file_name.endswith(\".csv\"):\n",
        "            file_path = os.path.join(dir, file_name)\n",
        "            key = os.path.splitext(file_name)[0]\n",
        "            try:\n",
        "                data_dict[key] = pd.read_csv(file_path)\n",
        "            except Exception as e:\n",
        "                print(f\"Error reading {file_name}: {e}\")\n",
        "      return data_dict\n",
        "\n",
        "    print(\"Initializing dataset...\")\n",
        "    self._download_dataset()\n",
        "    self.train_dataset = load_dataset_from_dir(TRAIN_SET_RELATIVE_PATH)\n",
        "    self.sample_dataset = load_dataset_from_dir(SAMPLE_SET_RELATIVE_PATH)\n",
        "    assert isinstance(self.train_set, dict) and len(self.train_set) > 0, \"train_set not intialized correctly\"\n",
        "    assert isinstance(self.sample_set, dict) and len(self.sample_set) > 0, \"sample_set not initialized correctly\"\n",
        "    print(\"Dataset initialized.\")\n",
        "\n",
        "\n",
        "  def _download_dataset(self):\n",
        "    try:\n",
        "      tar_file_path, _ = urllib.request.urlretrieve(DATASET_URL)\n",
        "      with tarfile.open(tar_file_path, \"r\") as tar:\n",
        "          tar.extractall()\n",
        "    except Exception as e:\n",
        "      print(f\"An error occurred during download or extraction: {e}\")\n",
        "    finally:\n",
        "      if os.path.exists(tar_file_path):\n",
        "          os.remove(tar_file_path)\n",
        "\n",
        "dataset = MyDataset()"
      ],
      "metadata": {
        "colab": {
          "base_uri": "https://localhost:8080/"
        },
        "id": "0OpqiHTDirZi",
        "outputId": "62e52ac8-5104-483d-8876-e71cd00490ec"
      },
      "execution_count": null,
      "outputs": [
        {
          "output_type": "stream",
          "name": "stdout",
          "text": [
            "Downloading dataset from https://github.com/rogerli2020/Stock-Prediction-FRE7773-Final-Project/raw/refs/heads/main/Data.tar...\n",
            "Download completed. File saved as /tmp/tmpu74g76yn.\n",
            "Extracting /tmp/tmpu74g76yn to tmpu74g76yn...\n",
            "Extraction completed. Dataset available in tmpu74g76yn.\n"
          ]
        }
      ]
    },
    {
      "cell_type": "markdown",
      "metadata": {
        "id": "uBlyPqO0ilGR"
      },
      "source": [
        "## Evaluate your model on the holdout data directory\n",
        "\n",
        "**You must run the following cell** from the directory that contains your model file\n",
        "\n",
        "Here is how we will evaluate your submission\n",
        "- we will create a directory whose only content is\n",
        "    - sub-directory `Data`\n",
        "- we will restore your model from the saved file`\n",
        "- we will run the cell in your notebook that should be a copy of the one below\n",
        "    - it calls procedure `MyModel` with the arguments given below\n",
        "    - your implementation of `MyModel`\n",
        "        - must successfully load your model file, *given where **we** have place it as described above*\n",
        "        - must successfully return one prediction for each example in the holdout directory *given where **we** have placed the holdout directory*"
      ]
    },
    {
      "cell_type": "code",
      "execution_count": null,
      "metadata": {
        "id": "wnZj3cuIilGR"
      },
      "outputs": [],
      "source": [
        "holdout_dir = os.path.join(\".\", \"Data\", \"holdout\")\n",
        "predicts = MyModel(holdout_dir, model_save_file)"
      ]
    },
    {
      "cell_type": "code",
      "execution_count": null,
      "metadata": {
        "id": "XLuijNQVilGR"
      },
      "outputs": [],
      "source": [
        "print(\"Done\")"
      ]
    },
    {
      "cell_type": "markdown",
      "metadata": {
        "id": "ndxrPGcMilGR"
      },
      "source": []
    }
  ],
  "metadata": {
    "kernelspec": {
      "display_name": "Python 3",
      "language": "python",
      "name": "python3"
    },
    "language_info": {
      "codemirror_mode": {
        "name": "ipython",
        "version": 3
      },
      "file_extension": ".py",
      "mimetype": "text/x-python",
      "name": "python",
      "nbconvert_exporter": "python",
      "pygments_lexer": "ipython3",
      "version": "3.7.4"
    },
    "toc": {
      "base_numbering": 1,
      "nav_menu": {},
      "number_sections": true,
      "sideBar": true,
      "skip_h1_title": false,
      "title_cell": "Table of Contents",
      "title_sidebar": "Contents",
      "toc_cell": false,
      "toc_position": {},
      "toc_section_display": true,
      "toc_window_display": false
    },
    "colab": {
      "provenance": []
    }
  },
  "nbformat": 4,
  "nbformat_minor": 0
}