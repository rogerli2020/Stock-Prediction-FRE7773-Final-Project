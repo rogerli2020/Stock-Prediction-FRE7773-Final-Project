{
  "cells": [
    {
      "cell_type": "markdown",
      "metadata": {
        "id": "Z9KpsPxOilGM"
      },
      "source": [
        "# Final Project: Overview\n",
        "\n",
        "# Objective\n",
        "\n",
        "The objective of this project is for you to demonstrate your mastery of the Machine Learning process\n",
        "**using Neural Networks**.\n",
        "\n"
      ]
    },
    {
      "cell_type": "markdown",
      "metadata": {
        "id": "CQULjq8silGN"
      },
      "source": [
        "# Submission requirements\n",
        "\n",
        "The guidelines will be similar to the Midterm\n",
        "- you will write a procedure that takes raw data and produces predictions\n",
        "\n",
        "You will submit a *single* model for evaluation.\n",
        "\n",
        "**Demonstrate that all cells in your notebook work**\n",
        "\n",
        "The final cell in your notebook should print the message \"Done\"\n",
        "- `print(\"Done\")`\n",
        "- If we run your notebook and this last cell does not execute your submission will be inadequate\n",
        "\n",
        "## Testing\n",
        "\n",
        "*You must perform out of sample testing*.\n",
        "\n",
        "If you want to perform cross-validation in training, that is fine, but you\n",
        "must *also* test out of sample to show that you are not over-fitting.\n",
        "\n",
        "It is up to you to create the out of sample data that you feel best evaluates your model.\n",
        "\n",
        "We will create holdout data (that we will not show you) for grading.\n",
        "\n",
        "The procedure you write to make predictions should be able to work on the unseen holdout data\n",
        "(similar to how it should work for your test set but the holdout set has *no targets*)\n",
        "\n",
        "    "
      ]
    },
    {
      "cell_type": "markdown",
      "metadata": {
        "id": "zzQfCLTbilGO"
      },
      "source": [
        "# The data\n",
        "\n",
        "Data will be provided to you\n",
        "- as multiple files in a directory which we refer to as a *data directory*\n",
        "\n",
        "The reason for this is that the different files may convey different information.\n",
        "\n",
        "You will be responsible for deciding\n",
        "- which files to use\n",
        "- which fields within the files to use\n",
        "\n",
        "We will give you a data directory for training.\n",
        "\n",
        "# Submission guidelines\n",
        "\n",
        "Here are the basics, a code template that you must complete is in the following cells\n",
        "- you will be required to store  your model in a file\n",
        "- you will be required to write a procedure `MyModel` that takes two arguments\n",
        "    - `test_dir`\n",
        "        - this is a *relative path* to the holdout data directory\n",
        "    - `model_save_file`\n",
        "        - this is a *relative path* to the file containing your model\n",
        "- the holdout data directory is similar in structure to the training data directory\n",
        "    - but without target labels !  It is your job to predict these.\n",
        "- your procedure must produce predictions given this holdout data directory\n",
        "\n",
        "This means that your procedure must\n",
        "- prepare the files in the holdout data directory similar to the way that they were prepared in the training data directory\n",
        "\n",
        "We will provide you with a sample data directory that will resemble the holdout -- this is so that you\n",
        "may test the procedure you write for submission.\n",
        "\n"
      ]
    },
    {
      "cell_type": "markdown",
      "metadata": {
        "id": "h2yiL67CilGP"
      },
      "source": [
        "## Detailed submission guidelines\n",
        "\n",
        "\n",
        "In **addition to your notebook that trains/evaluates your model**,\n",
        "- please also submit the file that contains your trained model.\n",
        "    - use `saveModel` to put your final, trained model in this file\n",
        "- We will **not** train your model; we will only use the method `MyModel`\n",
        "    - which **you** will implement\n",
        "    - and which uses `loadModel` and the name of the file in which the model was saved\n",
        "    - this will create the model that we will evaluate\n",
        "\n",
        "\n",
        "Here is a code template for you to complete\n",
        "- it will save your model (assuming it is in variable `my_model`)\n",
        "- it provides the specification for procedure `MyModel`, which *you must complete*\n"
      ]
    },
    {
      "cell_type": "code",
      "execution_count": 1,
      "metadata": {
        "id": "GV_5dZGYilGP"
      },
      "outputs": [],
      "source": [
        "import os\n",
        "from tensorflow.keras.models import load_model\n",
        "\n",
        "modelName = \"final_model\"\n",
        "model_path = os.path.join(\".\", modelName)\n",
        "\n",
        "def saveModel(model, model_path):\n",
        "    \"\"\"\n",
        "    Save a model\n",
        "\n",
        "    Parameters\n",
        "    ----------\n",
        "    model: a Keras model object\n",
        "    model_path: String.  Relative path to a file in which the model will be stored\n",
        "\n",
        "\n",
        "    Returns\n",
        "    -------\n",
        "    model_save_file: String.  Name of the file in which the model has been saved\n",
        "        - this will be model_path with the proper file-extension added\n",
        "    \"\"\"\n",
        "\n",
        "    model_save_file = model_path + '.keras'\n",
        "\n",
        "    model.save(model_save_file)\n",
        "\n",
        "    print(f\"Model saved in {model_save_file:s}; submit with your assignment.\")\n",
        "\n",
        "    return model_save_file\n",
        "\n",
        "def loadModel(model_save_file):\n",
        "    model = tf.keras.models.load_model( model_save_file )\n",
        "\n",
        "    return model\n",
        "\n",
        "def MyModel(test_dir, model_save_file):\n",
        "    # YOU MAY NOT change model after this statement !\n",
        "    model = loadModel(model_save_file)\n",
        "\n",
        "    # It should run model to create an array of predictions; we initialize it to the empty array for convenience\n",
        "    predictions = []\n",
        "\n",
        "    # We need to match your array of predictions with the examples you are predicting\n",
        "    # The array below (ids) should have a one-to-one correspondence and identify the example your are predicting\n",
        "    # For Bankruptcy: the Id column\n",
        "    # For Stock prediction: the date on which you are making a prediction\n",
        "    ids = []\n",
        "\n",
        "    # YOUR CODE GOES HERE\n",
        "\n",
        "\n",
        "    return predictions, ids\n",
        "\n",
        "# Assign to variable my_model the model that is your final model (the one  you will be evaluated on)\n",
        "my_model = None # CHANGE None to your model !\n",
        "\n",
        "# model_save_file = saveModel(my_model, model_path)"
      ]
    },
    {
      "cell_type": "markdown",
      "source": [
        "# 0. Constants"
      ],
      "metadata": {
        "id": "e_d-Fe36jpPy"
      }
    },
    {
      "cell_type": "code",
      "source": [
        "from typing import Final\n",
        "\n",
        "DATASET_URL: Final = \"https://github.com/rogerli2020/Stock-Prediction-FRE7773-Final-Project/raw/refs/heads/main/Data.tar\"\n",
        "DATA_RELATIVE_PATH: Final = \"./Data\"\n",
        "TRAIN_SET_RELATIVE_PATH: Final = \"./Data/train\"\n",
        "SAMPLE_SET_RELATIVE_PATH: Final = \"./Data/sample\""
      ],
      "metadata": {
        "id": "khohk3sujjTt"
      },
      "execution_count": 1,
      "outputs": []
    },
    {
      "cell_type": "markdown",
      "source": [
        "# 1. Getting and Loading the Data"
      ],
      "metadata": {
        "id": "iUTlxuGJio2x"
      }
    },
    {
      "cell_type": "code",
      "source": [
        "from typing import Dict\n",
        "import os\n",
        "import urllib.request\n",
        "import tarfile\n",
        "import pandas as pd\n",
        "import matplotlib.pyplot as plt\n",
        "\n",
        "class MyDataset:\n",
        "  def __init__(self, download_anyway: bool = False) -> None:\n",
        "    self.train_set : Dict[str, pd.DataFrame] = None\n",
        "    self.sample_set : Dict[str, pd.DataFrame] = None\n",
        "\n",
        "    self._download_anyway = download_anyway\n",
        "\n",
        "    self._load_dataset()\n",
        "\n",
        "  def _load_dataset(self):\n",
        "    def load_dataset_from_dir(dir : str) -> dict:\n",
        "      data_dict = {}\n",
        "      if not os.path.isdir(dir):\n",
        "        raise ValueError(f\"The provided path '{dir}' is not a directory or does not exist.\")\n",
        "      for file_name in os.listdir(dir):\n",
        "        if file_name.endswith(\".csv\"):\n",
        "          file_path = os.path.join(dir, file_name)\n",
        "          key = os.path.splitext(file_name)[0]\n",
        "          try:\n",
        "            data_dict[key] = pd.read_csv(file_path)\n",
        "          except Exception as e:\n",
        "            print(f\"Error reading {file_name}: {e}\")\n",
        "      return data_dict\n",
        "\n",
        "    self._download_dataset()\n",
        "    self.train_set = load_dataset_from_dir(TRAIN_SET_RELATIVE_PATH)\n",
        "    self.sample_set = load_dataset_from_dir(SAMPLE_SET_RELATIVE_PATH)\n",
        "    assert isinstance(self.train_set, dict) and len(self.train_set) > 0, \"train_set must be a non-empty dictionary\"\n",
        "    assert isinstance(self.sample_set, dict) and len(self.sample_set) > 0, \"sample_set must be a non-empty dictionary\"\n",
        "    # for dataset_name, dataset in [ ('train_set', self.train_set), ('sample_set', self.sample_set) ]:\n",
        "    #   print(f\"{dataset_name}, number of stocks: {len(dataset)}\")\n",
        "    #   for key, val in dataset.items():\n",
        "    #     print(key, '\\t', val.shape)\n",
        "    print(\"Dataset loaded!\")\n",
        "\n",
        "  def _download_dataset(self):\n",
        "    if os.path.isdir(DATA_RELATIVE_PATH) and not self._download_anyway:\n",
        "      print(\"Data already exist... Skipping download.\")\n",
        "      return\n",
        "    try:\n",
        "      tar_file_path, _ = urllib.request.urlretrieve(DATASET_URL)\n",
        "      with tarfile.open(tar_file_path, \"r\") as tar:\n",
        "          tar.extractall()\n",
        "    except Exception as e:\n",
        "      print(f\"An error occurred during download or extraction: {e}\")\n",
        "    finally:\n",
        "      if os.path.exists(tar_file_path):\n",
        "        os.remove(tar_file_path)\n",
        "\n",
        "  @staticmethod\n",
        "  def graph_dataset_df(dataset : pd.DataFrame):\n",
        "    dataset = dataset.set_index('Dt')\n",
        "    plt.figure(figsize=(10, 6))\n",
        "    for column in dataset.columns:\n",
        "      plt.plot(dataset.index, dataset[column], label=column)\n",
        "    plt.title(\"Graph\")\n",
        "    plt.xlabel(\"Index\")\n",
        "    plt.ylabel(\"Values\")\n",
        "    plt.legend(loc='best')\n",
        "    plt.grid(True)\n",
        "    plt.tight_layout()\n",
        "    plt.show()\n",
        "\n",
        "dataset : MyDataset = MyDataset()"
      ],
      "metadata": {
        "colab": {
          "base_uri": "https://localhost:8080/"
        },
        "id": "0OpqiHTDirZi",
        "outputId": "555ad2ca-b16d-4ecc-e53a-a3a22110c6c6"
      },
      "execution_count": 2,
      "outputs": [
        {
          "output_type": "stream",
          "name": "stdout",
          "text": [
            "Dataset loaded!\n"
          ]
        }
      ]
    },
    {
      "cell_type": "markdown",
      "source": [
        "## 1.1 Trying to Understand the Data"
      ],
      "metadata": {
        "id": "9C79uzurKjAk"
      }
    },
    {
      "cell_type": "markdown",
      "source": [
        "Shape of Data:"
      ],
      "metadata": {
        "id": "8nl16CA9LBIF"
      }
    },
    {
      "cell_type": "code",
      "source": [
        "print(dataset.train_set['AAPL'].shape)\n",
        "print(dataset.sample_set['AAPL'].shape)"
      ],
      "metadata": {
        "id": "5HwqfrVHgb0d",
        "outputId": "31c98166-fa83-4df8-f680-bd12f327e2c6",
        "colab": {
          "base_uri": "https://localhost:8080/"
        }
      },
      "execution_count": 4,
      "outputs": [
        {
          "output_type": "stream",
          "name": "stdout",
          "text": [
            "(4277, 9)\n",
            "(251, 9)\n"
          ]
        }
      ]
    },
    {
      "cell_type": "code",
      "source": [
        "dataset.sample_set['AAPL'].head()"
      ],
      "metadata": {
        "id": "tdb5rv84N6Fi",
        "outputId": "aa37ec46-09fb-449a-e277-ffd47e181c67",
        "colab": {
          "base_uri": "https://localhost:8080/",
          "height": 204
        }
      },
      "execution_count": 12,
      "outputs": [
        {
          "output_type": "execute_result",
          "data": {
            "text/plain": [
              "           Dt  Adj Close   Close  Div  Factor      High     Low    Open  \\\n",
              "0  2017-01-03   110.9418  116.15  0.0     1.0  116.3300  114.76  115.80   \n",
              "1  2017-01-04   110.8176  116.02  0.0     1.0  116.5100  115.75  115.85   \n",
              "2  2017-01-05   111.3812  116.61  0.0     1.0  116.8642  115.81  115.92   \n",
              "3  2017-01-06   112.6229  117.91  0.0     1.0  118.1600  116.47  116.78   \n",
              "4  2017-01-09   113.6545  118.99  0.0     1.0  119.4300  117.94  117.95   \n",
              "\n",
              "       Volume  \n",
              "0  28781865.0  \n",
              "1  21118116.0  \n",
              "2  22193587.0  \n",
              "3  31751900.0  \n",
              "4  33561948.0  "
            ],
            "text/html": [
              "\n",
              "  <div id=\"df-1296a15b-3e0f-4fe9-91a7-dddb0d0f4319\" class=\"colab-df-container\">\n",
              "    <div>\n",
              "<style scoped>\n",
              "    .dataframe tbody tr th:only-of-type {\n",
              "        vertical-align: middle;\n",
              "    }\n",
              "\n",
              "    .dataframe tbody tr th {\n",
              "        vertical-align: top;\n",
              "    }\n",
              "\n",
              "    .dataframe thead th {\n",
              "        text-align: right;\n",
              "    }\n",
              "</style>\n",
              "<table border=\"1\" class=\"dataframe\">\n",
              "  <thead>\n",
              "    <tr style=\"text-align: right;\">\n",
              "      <th></th>\n",
              "      <th>Dt</th>\n",
              "      <th>Adj Close</th>\n",
              "      <th>Close</th>\n",
              "      <th>Div</th>\n",
              "      <th>Factor</th>\n",
              "      <th>High</th>\n",
              "      <th>Low</th>\n",
              "      <th>Open</th>\n",
              "      <th>Volume</th>\n",
              "    </tr>\n",
              "  </thead>\n",
              "  <tbody>\n",
              "    <tr>\n",
              "      <th>0</th>\n",
              "      <td>2017-01-03</td>\n",
              "      <td>110.9418</td>\n",
              "      <td>116.15</td>\n",
              "      <td>0.0</td>\n",
              "      <td>1.0</td>\n",
              "      <td>116.3300</td>\n",
              "      <td>114.76</td>\n",
              "      <td>115.80</td>\n",
              "      <td>28781865.0</td>\n",
              "    </tr>\n",
              "    <tr>\n",
              "      <th>1</th>\n",
              "      <td>2017-01-04</td>\n",
              "      <td>110.8176</td>\n",
              "      <td>116.02</td>\n",
              "      <td>0.0</td>\n",
              "      <td>1.0</td>\n",
              "      <td>116.5100</td>\n",
              "      <td>115.75</td>\n",
              "      <td>115.85</td>\n",
              "      <td>21118116.0</td>\n",
              "    </tr>\n",
              "    <tr>\n",
              "      <th>2</th>\n",
              "      <td>2017-01-05</td>\n",
              "      <td>111.3812</td>\n",
              "      <td>116.61</td>\n",
              "      <td>0.0</td>\n",
              "      <td>1.0</td>\n",
              "      <td>116.8642</td>\n",
              "      <td>115.81</td>\n",
              "      <td>115.92</td>\n",
              "      <td>22193587.0</td>\n",
              "    </tr>\n",
              "    <tr>\n",
              "      <th>3</th>\n",
              "      <td>2017-01-06</td>\n",
              "      <td>112.6229</td>\n",
              "      <td>117.91</td>\n",
              "      <td>0.0</td>\n",
              "      <td>1.0</td>\n",
              "      <td>118.1600</td>\n",
              "      <td>116.47</td>\n",
              "      <td>116.78</td>\n",
              "      <td>31751900.0</td>\n",
              "    </tr>\n",
              "    <tr>\n",
              "      <th>4</th>\n",
              "      <td>2017-01-09</td>\n",
              "      <td>113.6545</td>\n",
              "      <td>118.99</td>\n",
              "      <td>0.0</td>\n",
              "      <td>1.0</td>\n",
              "      <td>119.4300</td>\n",
              "      <td>117.94</td>\n",
              "      <td>117.95</td>\n",
              "      <td>33561948.0</td>\n",
              "    </tr>\n",
              "  </tbody>\n",
              "</table>\n",
              "</div>\n",
              "    <div class=\"colab-df-buttons\">\n",
              "\n",
              "  <div class=\"colab-df-container\">\n",
              "    <button class=\"colab-df-convert\" onclick=\"convertToInteractive('df-1296a15b-3e0f-4fe9-91a7-dddb0d0f4319')\"\n",
              "            title=\"Convert this dataframe to an interactive table.\"\n",
              "            style=\"display:none;\">\n",
              "\n",
              "  <svg xmlns=\"http://www.w3.org/2000/svg\" height=\"24px\" viewBox=\"0 -960 960 960\">\n",
              "    <path d=\"M120-120v-720h720v720H120Zm60-500h600v-160H180v160Zm220 220h160v-160H400v160Zm0 220h160v-160H400v160ZM180-400h160v-160H180v160Zm440 0h160v-160H620v160ZM180-180h160v-160H180v160Zm440 0h160v-160H620v160Z\"/>\n",
              "  </svg>\n",
              "    </button>\n",
              "\n",
              "  <style>\n",
              "    .colab-df-container {\n",
              "      display:flex;\n",
              "      gap: 12px;\n",
              "    }\n",
              "\n",
              "    .colab-df-convert {\n",
              "      background-color: #E8F0FE;\n",
              "      border: none;\n",
              "      border-radius: 50%;\n",
              "      cursor: pointer;\n",
              "      display: none;\n",
              "      fill: #1967D2;\n",
              "      height: 32px;\n",
              "      padding: 0 0 0 0;\n",
              "      width: 32px;\n",
              "    }\n",
              "\n",
              "    .colab-df-convert:hover {\n",
              "      background-color: #E2EBFA;\n",
              "      box-shadow: 0px 1px 2px rgba(60, 64, 67, 0.3), 0px 1px 3px 1px rgba(60, 64, 67, 0.15);\n",
              "      fill: #174EA6;\n",
              "    }\n",
              "\n",
              "    .colab-df-buttons div {\n",
              "      margin-bottom: 4px;\n",
              "    }\n",
              "\n",
              "    [theme=dark] .colab-df-convert {\n",
              "      background-color: #3B4455;\n",
              "      fill: #D2E3FC;\n",
              "    }\n",
              "\n",
              "    [theme=dark] .colab-df-convert:hover {\n",
              "      background-color: #434B5C;\n",
              "      box-shadow: 0px 1px 3px 1px rgba(0, 0, 0, 0.15);\n",
              "      filter: drop-shadow(0px 1px 2px rgba(0, 0, 0, 0.3));\n",
              "      fill: #FFFFFF;\n",
              "    }\n",
              "  </style>\n",
              "\n",
              "    <script>\n",
              "      const buttonEl =\n",
              "        document.querySelector('#df-1296a15b-3e0f-4fe9-91a7-dddb0d0f4319 button.colab-df-convert');\n",
              "      buttonEl.style.display =\n",
              "        google.colab.kernel.accessAllowed ? 'block' : 'none';\n",
              "\n",
              "      async function convertToInteractive(key) {\n",
              "        const element = document.querySelector('#df-1296a15b-3e0f-4fe9-91a7-dddb0d0f4319');\n",
              "        const dataTable =\n",
              "          await google.colab.kernel.invokeFunction('convertToInteractive',\n",
              "                                                    [key], {});\n",
              "        if (!dataTable) return;\n",
              "\n",
              "        const docLinkHtml = 'Like what you see? Visit the ' +\n",
              "          '<a target=\"_blank\" href=https://colab.research.google.com/notebooks/data_table.ipynb>data table notebook</a>'\n",
              "          + ' to learn more about interactive tables.';\n",
              "        element.innerHTML = '';\n",
              "        dataTable['output_type'] = 'display_data';\n",
              "        await google.colab.output.renderOutput(dataTable, element);\n",
              "        const docLink = document.createElement('div');\n",
              "        docLink.innerHTML = docLinkHtml;\n",
              "        element.appendChild(docLink);\n",
              "      }\n",
              "    </script>\n",
              "  </div>\n",
              "\n",
              "\n",
              "<div id=\"df-811112ea-0c09-42ea-894d-cd6724e14a1f\">\n",
              "  <button class=\"colab-df-quickchart\" onclick=\"quickchart('df-811112ea-0c09-42ea-894d-cd6724e14a1f')\"\n",
              "            title=\"Suggest charts\"\n",
              "            style=\"display:none;\">\n",
              "\n",
              "<svg xmlns=\"http://www.w3.org/2000/svg\" height=\"24px\"viewBox=\"0 0 24 24\"\n",
              "     width=\"24px\">\n",
              "    <g>\n",
              "        <path d=\"M19 3H5c-1.1 0-2 .9-2 2v14c0 1.1.9 2 2 2h14c1.1 0 2-.9 2-2V5c0-1.1-.9-2-2-2zM9 17H7v-7h2v7zm4 0h-2V7h2v10zm4 0h-2v-4h2v4z\"/>\n",
              "    </g>\n",
              "</svg>\n",
              "  </button>\n",
              "\n",
              "<style>\n",
              "  .colab-df-quickchart {\n",
              "      --bg-color: #E8F0FE;\n",
              "      --fill-color: #1967D2;\n",
              "      --hover-bg-color: #E2EBFA;\n",
              "      --hover-fill-color: #174EA6;\n",
              "      --disabled-fill-color: #AAA;\n",
              "      --disabled-bg-color: #DDD;\n",
              "  }\n",
              "\n",
              "  [theme=dark] .colab-df-quickchart {\n",
              "      --bg-color: #3B4455;\n",
              "      --fill-color: #D2E3FC;\n",
              "      --hover-bg-color: #434B5C;\n",
              "      --hover-fill-color: #FFFFFF;\n",
              "      --disabled-bg-color: #3B4455;\n",
              "      --disabled-fill-color: #666;\n",
              "  }\n",
              "\n",
              "  .colab-df-quickchart {\n",
              "    background-color: var(--bg-color);\n",
              "    border: none;\n",
              "    border-radius: 50%;\n",
              "    cursor: pointer;\n",
              "    display: none;\n",
              "    fill: var(--fill-color);\n",
              "    height: 32px;\n",
              "    padding: 0;\n",
              "    width: 32px;\n",
              "  }\n",
              "\n",
              "  .colab-df-quickchart:hover {\n",
              "    background-color: var(--hover-bg-color);\n",
              "    box-shadow: 0 1px 2px rgba(60, 64, 67, 0.3), 0 1px 3px 1px rgba(60, 64, 67, 0.15);\n",
              "    fill: var(--button-hover-fill-color);\n",
              "  }\n",
              "\n",
              "  .colab-df-quickchart-complete:disabled,\n",
              "  .colab-df-quickchart-complete:disabled:hover {\n",
              "    background-color: var(--disabled-bg-color);\n",
              "    fill: var(--disabled-fill-color);\n",
              "    box-shadow: none;\n",
              "  }\n",
              "\n",
              "  .colab-df-spinner {\n",
              "    border: 2px solid var(--fill-color);\n",
              "    border-color: transparent;\n",
              "    border-bottom-color: var(--fill-color);\n",
              "    animation:\n",
              "      spin 1s steps(1) infinite;\n",
              "  }\n",
              "\n",
              "  @keyframes spin {\n",
              "    0% {\n",
              "      border-color: transparent;\n",
              "      border-bottom-color: var(--fill-color);\n",
              "      border-left-color: var(--fill-color);\n",
              "    }\n",
              "    20% {\n",
              "      border-color: transparent;\n",
              "      border-left-color: var(--fill-color);\n",
              "      border-top-color: var(--fill-color);\n",
              "    }\n",
              "    30% {\n",
              "      border-color: transparent;\n",
              "      border-left-color: var(--fill-color);\n",
              "      border-top-color: var(--fill-color);\n",
              "      border-right-color: var(--fill-color);\n",
              "    }\n",
              "    40% {\n",
              "      border-color: transparent;\n",
              "      border-right-color: var(--fill-color);\n",
              "      border-top-color: var(--fill-color);\n",
              "    }\n",
              "    60% {\n",
              "      border-color: transparent;\n",
              "      border-right-color: var(--fill-color);\n",
              "    }\n",
              "    80% {\n",
              "      border-color: transparent;\n",
              "      border-right-color: var(--fill-color);\n",
              "      border-bottom-color: var(--fill-color);\n",
              "    }\n",
              "    90% {\n",
              "      border-color: transparent;\n",
              "      border-bottom-color: var(--fill-color);\n",
              "    }\n",
              "  }\n",
              "</style>\n",
              "\n",
              "  <script>\n",
              "    async function quickchart(key) {\n",
              "      const quickchartButtonEl =\n",
              "        document.querySelector('#' + key + ' button');\n",
              "      quickchartButtonEl.disabled = true;  // To prevent multiple clicks.\n",
              "      quickchartButtonEl.classList.add('colab-df-spinner');\n",
              "      try {\n",
              "        const charts = await google.colab.kernel.invokeFunction(\n",
              "            'suggestCharts', [key], {});\n",
              "      } catch (error) {\n",
              "        console.error('Error during call to suggestCharts:', error);\n",
              "      }\n",
              "      quickchartButtonEl.classList.remove('colab-df-spinner');\n",
              "      quickchartButtonEl.classList.add('colab-df-quickchart-complete');\n",
              "    }\n",
              "    (() => {\n",
              "      let quickchartButtonEl =\n",
              "        document.querySelector('#df-811112ea-0c09-42ea-894d-cd6724e14a1f button');\n",
              "      quickchartButtonEl.style.display =\n",
              "        google.colab.kernel.accessAllowed ? 'block' : 'none';\n",
              "    })();\n",
              "  </script>\n",
              "</div>\n",
              "\n",
              "    </div>\n",
              "  </div>\n"
            ],
            "application/vnd.google.colaboratory.intrinsic+json": {
              "type": "dataframe",
              "summary": "{\n  \"name\": \"dataset\",\n  \"rows\": 5,\n  \"fields\": [\n    {\n      \"column\": \"Dt\",\n      \"properties\": {\n        \"dtype\": \"object\",\n        \"num_unique_values\": 5,\n        \"samples\": [\n          \"2017-01-04\",\n          \"2017-01-09\",\n          \"2017-01-05\"\n        ],\n        \"semantic_type\": \"\",\n        \"description\": \"\"\n      }\n    },\n    {\n      \"column\": \"Adj Close\",\n      \"properties\": {\n        \"dtype\": \"number\",\n        \"std\": 1.2204917349167088,\n        \"min\": 110.8176,\n        \"max\": 113.6545,\n        \"num_unique_values\": 5,\n        \"samples\": [\n          110.8176,\n          113.6545,\n          111.3812\n        ],\n        \"semantic_type\": \"\",\n        \"description\": \"\"\n      }\n    },\n    {\n      \"column\": \"Close\",\n      \"properties\": {\n        \"dtype\": \"number\",\n        \"std\": 1.2777636714197167,\n        \"min\": 116.02,\n        \"max\": 118.99,\n        \"num_unique_values\": 5,\n        \"samples\": [\n          116.02,\n          118.99,\n          116.61\n        ],\n        \"semantic_type\": \"\",\n        \"description\": \"\"\n      }\n    },\n    {\n      \"column\": \"Div\",\n      \"properties\": {\n        \"dtype\": \"number\",\n        \"std\": 0.0,\n        \"min\": 0.0,\n        \"max\": 0.0,\n        \"num_unique_values\": 1,\n        \"samples\": [\n          0.0\n        ],\n        \"semantic_type\": \"\",\n        \"description\": \"\"\n      }\n    },\n    {\n      \"column\": \"Factor\",\n      \"properties\": {\n        \"dtype\": \"number\",\n        \"std\": 0.0,\n        \"min\": 1.0,\n        \"max\": 1.0,\n        \"num_unique_values\": 1,\n        \"samples\": [\n          1.0\n        ],\n        \"semantic_type\": \"\",\n        \"description\": \"\"\n      }\n    },\n    {\n      \"column\": \"High\",\n      \"properties\": {\n        \"dtype\": \"number\",\n        \"std\": 1.3138941083664257,\n        \"min\": 116.33,\n        \"max\": 119.43,\n        \"num_unique_values\": 5,\n        \"samples\": [\n          116.51\n        ],\n        \"semantic_type\": \"\",\n        \"description\": \"\"\n      }\n    },\n    {\n      \"column\": \"Low\",\n      \"properties\": {\n        \"dtype\": \"number\",\n        \"std\": 1.1741081721885738,\n        \"min\": 114.76,\n        \"max\": 117.94,\n        \"num_unique_values\": 5,\n        \"samples\": [\n          115.75\n        ],\n        \"semantic_type\": \"\",\n        \"description\": \"\"\n      }\n    },\n    {\n      \"column\": \"Open\",\n      \"properties\": {\n        \"dtype\": \"number\",\n        \"std\": 0.9249054005680821,\n        \"min\": 115.8,\n        \"max\": 117.95,\n        \"num_unique_values\": 5,\n        \"samples\": [\n          115.85\n        ],\n        \"semantic_type\": \"\",\n        \"description\": \"\"\n      }\n    },\n    {\n      \"column\": \"Volume\",\n      \"properties\": {\n        \"dtype\": \"number\",\n        \"std\": 5598075.405877068,\n        \"min\": 21118116.0,\n        \"max\": 33561948.0,\n        \"num_unique_values\": 5,\n        \"samples\": [\n          21118116.0\n        ],\n        \"semantic_type\": \"\",\n        \"description\": \"\"\n      }\n    }\n  ]\n}"
            }
          },
          "metadata": {},
          "execution_count": 12
        }
      ]
    },
    {
      "cell_type": "markdown",
      "source": [
        "## Features:"
      ],
      "metadata": {
        "id": "sRQaQpimLF0n"
      }
    },
    {
      "cell_type": "code",
      "source": [
        "print(dataset.train_set['AAPL'].columns)"
      ],
      "metadata": {
        "id": "3XQDpGy7LJqG",
        "outputId": "3db6bb71-d6a5-4e98-851e-f131119f7c05",
        "colab": {
          "base_uri": "https://localhost:8080/"
        }
      },
      "execution_count": 5,
      "outputs": [
        {
          "output_type": "stream",
          "name": "stdout",
          "text": [
            "Index(['Dt', 'Adj Close', 'Close', 'Div', 'Factor', 'High', 'Low', 'Open',\n",
            "       'Volume'],\n",
            "      dtype='object')\n"
          ]
        }
      ]
    },
    {
      "cell_type": "code",
      "source": [
        "MyDataset.graph_dataset_df(dataset.train_set['MA'][['Dt', 'Factor', 'Close', 'Adj Close']])"
      ],
      "metadata": {
        "id": "DYpx1tDTLmmd",
        "outputId": "429d0c5a-a6bf-42c6-8cd3-5b57f57c9b9f",
        "colab": {
          "base_uri": "https://localhost:8080/",
          "height": 558
        }
      },
      "execution_count": 10,
      "outputs": [
        {
          "output_type": "display_data",
          "data": {
            "text/plain": [
              "<Figure size 1000x600 with 1 Axes>"
            ],
            "image/png": "[encoded data removed]"
          },
          "metadata": {}
        }
      ]
    },
    {
      "cell_type": "markdown",
      "metadata": {
        "id": "uBlyPqO0ilGR"
      },
      "source": [
        "## Evaluate your model on the holdout data directory\n",
        "\n",
        "**You must run the following cell** from the directory that contains your model file\n",
        "\n",
        "Here is how we will evaluate your submission\n",
        "- we will create a directory whose only content is\n",
        "    - sub-directory `Data`\n",
        "- we will restore your model from the saved file`\n",
        "- we will run the cell in your notebook that should be a copy of the one below\n",
        "    - it calls procedure `MyModel` with the arguments given below\n",
        "    - your implementation of `MyModel`\n",
        "        - must successfully load your model file, *given where **we** have place it as described above*\n",
        "        - must successfully return one prediction for each example in the holdout directory *given where **we** have placed the holdout directory*"
      ]
    },
    {
      "cell_type": "code",
      "execution_count": 4,
      "metadata": {
        "id": "wnZj3cuIilGR",
        "outputId": "a0159f49-8fa8-4b51-edb9-39dcd9b320f6",
        "colab": {
          "base_uri": "https://localhost:8080/",
          "height": 156
        }
      },
      "outputs": [
        {
          "output_type": "error",
          "ename": "NameError",
          "evalue": "name 'model_save_file' is not defined",
          "traceback": [
            "\u001b[0;31m---------------------------------------------------------------------------\u001b[0m",
            "\u001b[0;31mNameError\u001b[0m                                 Traceback (most recent call last)",
            "\u001b[0;32m<ipython-input-4-67580dbd25fe>\u001b[0m in \u001b[0;36m<cell line: 2>\u001b[0;34m()\u001b[0m\n\u001b[1;32m      1\u001b[0m \u001b[0mholdout_dir\u001b[0m \u001b[0;34m=\u001b[0m \u001b[0mos\u001b[0m\u001b[0;34m.\u001b[0m\u001b[0mpath\u001b[0m\u001b[0;34m.\u001b[0m\u001b[0mjoin\u001b[0m\u001b[0;34m(\u001b[0m\u001b[0;34m\".\"\u001b[0m\u001b[0;34m,\u001b[0m \u001b[0;34m\"Data\"\u001b[0m\u001b[0;34m,\u001b[0m \u001b[0;34m\"holdout\"\u001b[0m\u001b[0;34m)\u001b[0m\u001b[0;34m\u001b[0m\u001b[0;34m\u001b[0m\u001b[0m\n\u001b[0;32m----> 2\u001b[0;31m \u001b[0mpredicts\u001b[0m \u001b[0;34m=\u001b[0m \u001b[0mMyModel\u001b[0m\u001b[0;34m(\u001b[0m\u001b[0mholdout_dir\u001b[0m\u001b[0;34m,\u001b[0m \u001b[0mmodel_save_file\u001b[0m\u001b[0;34m)\u001b[0m\u001b[0;34m\u001b[0m\u001b[0;34m\u001b[0m\u001b[0m\n\u001b[0m",
            "\u001b[0;31mNameError\u001b[0m: name 'model_save_file' is not defined"
          ]
        }
      ],
      "source": [
        "raise NotImplementedError\n",
        "holdout_dir = os.path.join(\".\", \"Data\", \"holdout\")\n",
        "predicts = MyModel(holdout_dir, model_save_file)"
      ]
    },
    {
      "cell_type": "code",
      "execution_count": null,
      "metadata": {
        "id": "XLuijNQVilGR"
      },
      "outputs": [],
      "source": [
        "print(\"Done\")"
      ]
    },
    {
      "cell_type": "markdown",
      "metadata": {
        "id": "ndxrPGcMilGR"
      },
      "source": []
    }
  ],
  "metadata": {
    "kernelspec": {
      "display_name": "Python 3",
      "language": "python",
      "name": "python3"
    },
    "language_info": {
      "codemirror_mode": {
        "name": "ipython",
        "version": 3
      },
      "file_extension": ".py",
      "mimetype": "text/x-python",
      "name": "python",
      "nbconvert_exporter": "python",
      "pygments_lexer": "ipython3",
      "version": "3.7.4"
    },
    "toc": {
      "base_numbering": 1,
      "nav_menu": {},
      "number_sections": true,
      "sideBar": true,
      "skip_h1_title": false,
      "title_cell": "Table of Contents",
      "title_sidebar": "Contents",
      "toc_cell": false,
      "toc_position": {},
      "toc_section_display": true,
      "toc_window_display": false
    },
    "colab": {
      "provenance": []
    }
  },
  "nbformat": 4,
  "nbformat_minor": 0
}